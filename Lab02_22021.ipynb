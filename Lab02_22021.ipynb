{
  "nbformat": 4,
  "nbformat_minor": 0,
  "metadata": {
    "colab": {
      "provenance": []
    },
    "kernelspec": {
      "name": "python3",
      "display_name": "Python 3"
    },
    "language_info": {
      "name": "python"
    }
  },
  "cells": [
    {
      "cell_type": "code",
      "source": [
        "def euclidean_distance(vector1, vector2):\n",
        "    # Check if the vectors have the same dimension\n",
        "    if len(vector1) != len(vector2):\n",
        "        print(\"Vectors must have the same dimension\")\n",
        "\n",
        "\n",
        "    squared_diff = [(v1 - v2) ** 2 for v1, v2 in zip(vector1, vector2)]\n",
        "\n",
        "    sum_squared_diff = sum(squared_diff)\n",
        "\n",
        "    return math.sqrt(sum_squared_diff)\n",
        "\n",
        "# Function to calculate Manhattan distance between two vectors\n",
        "def manhattan_distance(vector1, vector2):\n",
        "\n",
        "    if len(vector1) != len(vector2):\n",
        "        print(\"Vectors must have the same dimension\")\n",
        "\n",
        "    # Calculate the absolute differences between corresponding elements of the vectors\n",
        "    abs_diff = [abs(v1 - v2) for v1, v2 in zip(vector1, vector2)]\n",
        "\n",
        "    return sum(abs_diff)\n",
        "\n",
        "\n",
        "vector_a = [1, 2, 3]\n",
        "vector_b = [4, 5, 6]\n",
        "\n",
        "# Calculate Euclidean and Manhattan distance\n",
        "euclidean_dist = euclidean_distance(vector_a, vector_b)\n",
        "manhattan_dist = manhattan_distance(vector_a, vector_b)\n",
        "\n",
        "# Print the results\n",
        "print(\"The Euclidean Distance of the two given vectors is:\", euclidean_dist)\n",
        "print(\"The Manhattan Distance of the two given vectors is:\", manhattan_dist)\n"
      ],
      "metadata": {
        "colab": {
          "base_uri": "https://localhost:8080/"
        },
        "id": "UqMXq8dKJ4KR",
        "outputId": "4f7cbd58-6a53-4af5-b381-05345ef93a90"
      },
      "execution_count": 13,
      "outputs": [
        {
          "output_type": "stream",
          "name": "stdout",
          "text": [
            "The Euclidean Distance of the two given vectors is: 5.196152422706632\n",
            "The Manhattan Distance of the two given vectors is: 9\n"
          ]
        }
      ]
    },
    {
      "cell_type": "code",
      "source": [
        "def label_encoding_categorical(data):\n",
        "\n",
        "    labels = {}\n",
        "    encoded_data = []\n",
        "    for category in data:\n",
        "        if category not in labels:\n",
        "            labels[category] = len(labels)\n",
        "        encoded_data.append(labels[category])\n",
        "    return encoded_data\n",
        "\n",
        "# Example usage:\n",
        "categorical_data = [\"cat\", \"dog\", \"cat\", \"fish\", \"dog\"]\n",
        "encoded_data = label_encoding_categorical(categorical_data)\n",
        "print(\"Encoded data:\", encoded_data)\n"
      ],
      "metadata": {
        "colab": {
          "base_uri": "https://localhost:8080/"
        },
        "id": "tB9II76bUvtu",
        "outputId": "e90d5aa0-a874-4817-a16d-7af893d41fc4"
      },
      "execution_count": 12,
      "outputs": [
        {
          "output_type": "stream",
          "name": "stdout",
          "text": [
            "Encoded data: [0, 1, 0, 2, 1]\n"
          ]
        }
      ]
    }
  ]
}
