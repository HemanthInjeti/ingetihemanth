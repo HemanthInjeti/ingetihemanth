{
  "nbformat": 4,
  "nbformat_minor": 0,
  "metadata": {
    "colab": {
      "provenance": [],
      "include_colab_link": true
    },
    "kernelspec": {
      "name": "python3",
      "display_name": "Python 3"
    },
    "language_info": {
      "name": "python"
    }
  },
  "cells": [
    {
      "cell_type": "markdown",
      "metadata": {
        "id": "view-in-github",
        "colab_type": "text"
      },
      "source": [
        "<a href=\"https://colab.research.google.com/github/HemanthInjeti/ingetihemanth/blob/main/Lab02_22021.ipynb\" target=\"_parent\"><img src=\"https://colab.research.google.com/assets/colab-badge.svg\" alt=\"Open In Colab\"/></a>"
      ]
    },
    {
      "cell_type": "code",
      "source": [
        "import math\n",
        "\n",
        "def euclidean_distance(v1, v2):\n",
        "    assert len(v1) == len(v2)\n",
        "# Calculating the squared differences for each dimension\n",
        "    squared_diff = [(x - y) ** 2 for x, y in zip(v1, v2)]\n",
        "    distance = math.sqrt(sum(squared_diff))\n",
        "    return distance\n",
        "\n",
        "def manhattan_distance(v1, v2):\n",
        "    assert len(v1) == len(v2)\n",
        "# Calculating absolute differences for each dimension\n",
        "    abs_diff = [abs(x - y) for x, y in zip(v1, v2)]\n",
        "    distance = sum(abs_diff)\n",
        "    return distance\n",
        "\n",
        "if __name__ == \"__main__\":\n",
        "    a = [1, 2, 3]\n",
        "    b = [6, 7, 8]\n",
        "#calling functions\n",
        "    euclidean_result = euclidean_distance(a, b)\n",
        "    manhattan_result = manhattan_distance(a, b)\n",
        "#output needed\n",
        "    print(f\"Euclidean Distance: {euclidean_result}\")\n",
        "    print(f\"Manhattan Distance: {manhattan_result}\")"
      ],
      "metadata": {
        "colab": {
          "base_uri": "https://localhost:8080/"
        },
        "id": "UqMXq8dKJ4KR",
        "outputId": "681d3553-d6c7-489a-c84d-406db601ced6"
      },
      "execution_count": 2,
      "outputs": [
        {
          "output_type": "stream",
          "name": "stdout",
          "text": [
            "Euclidean Distance: 8.660254037844387\n",
            "Manhattan Distance: 15\n"
          ]
        }
      ]
    },
    {
      "cell_type": "code",
      "source": [
        "def label_encode(data):\n",
        "    # Dictionary to store label mappings\n",
        "    labels = {}\n",
        "    counter = 0  # Counter for assigning labels\n",
        "    encoded_data = []  # List to store encoded labels\n",
        "\n",
        "    for category in data:\n",
        "        if category not in labels:\n",
        "            labels[category] = counter  # Assign a new label\n",
        "            counter += 1\n",
        "        encoded_data.append(labels[category])\n",
        "\n",
        "    return encoded_data\n",
        "\n",
        "if __name__ == \"__main__\":\n",
        "    input_data = [\"red\", \"green\", \"green\", \"red\", \"blue\",\"red\",\"yellow\"]\n",
        "    result = label_encode(input_data)\n",
        "\n",
        "    # Display the result\n",
        "    print(\"Original:\", input_data)\n",
        "    print(\"Encoded:\", result)\n"
      ],
      "metadata": {
        "colab": {
          "base_uri": "https://localhost:8080/"
        },
        "id": "tB9II76bUvtu",
        "outputId": "9ad7c49a-075c-4eb3-98e3-6d3d96260b41"
      },
      "execution_count": 8,
      "outputs": [
        {
          "output_type": "stream",
          "name": "stdout",
          "text": [
            "Original: ['red', 'green', 'green', 'red', 'blue', 'red', 'yellow']\n",
            "Encoded: [0, 1, 1, 0, 2, 0, 3]\n"
          ]
        }
      ]
    },
    {
      "cell_type": "code",
      "source": [
        "def one_hot_encode(categories):\n",
        "    \"\"\"Convert categories to One-Hot encoded vectors.\"\"\"\n",
        "    # Get unique categories and map to indices\n",
        "    unique_categories = sorted(set(categories))\n",
        "    category_to_index = {category: index for index, category in enumerate(unique_categories)}\n",
        "\n",
        "    # Initialize list for One-Hot encoded vectors\n",
        "    one_hot_encoded = []\n",
        "\n",
        "    # Encode each category\n",
        "    for category in categories:\n",
        "        encoded_vector = [0] * len(unique_categories)  # Vector of zeros\n",
        "        encoded_vector[category_to_index[category]] = 1  # Set index of category to 1\n",
        "        one_hot_encoded.append(encoded_vector)\n",
        "\n",
        "    return one_hot_encoded\n",
        "\n",
        "# Main program\n",
        "if __name__ == \"__main__\":\n",
        "    categories = [\"dog\", \"cat\", \"bird\", \"dog\"]  # Example categories\n",
        "    encoded_vectors = one_hot_encode(categories)  # Encode categories\n",
        "    print(\"One-Hot Encoded Vectors:\")  # Output results\n",
        "    for vector in encoded_vectors:\n",
        "       print(vector)"
      ],
      "metadata": {
        "id": "S8S0QIqFPAvl",
        "outputId": "55f0272d-7610-4cfb-a034-fe4adb28b7f4",
        "colab": {
          "base_uri": "https://localhost:8080/"
        }
      },
      "execution_count": 6,
      "outputs": [
        {
          "output_type": "stream",
          "name": "stdout",
          "text": [
            "One-Hot Encoded Vectors:\n",
            "[0, 0, 1]\n",
            "[0, 1, 0]\n",
            "[1, 0, 0]\n",
            "[0, 0, 1]\n"
          ]
        }
      ]
    },
    {
      "cell_type": "code",
      "source": [
        "def calculate_distance(point1, point2):\n",
        "    \"\"\"Calculate the Euclidean distance between two points.\"\"\"\n",
        "    distance = 0\n",
        "    for i in range(len(point1) - 1):  # Exclude the label from the distance calculation\n",
        "        distance += (point1[i] - point2[i]) ** 2\n",
        "    return distance ** 0.5\n",
        "\n",
        "def get_neighbors(training_data, test_point, k):\n",
        "    \"\"\"Find the k nearest neighbors of a test point.\"\"\"\n",
        "    distances = []\n",
        "    for train_point in training_data:\n",
        "        distance = calculate_distance(test_point, train_point)\n",
        "        distances.append((train_point, distance))\n",
        "    distances.sort(key=lambda tup: tup[1])  # Sort by distance\n",
        "    neighbors = distances[:k]\n",
        "    return [neighbor[0] for neighbor in neighbors]  # Return only the data points, not distances\n",
        "\n",
        "def predict_classification(training_data, test_point, k):\n",
        "    \"\"\"Predict the classification for a test point based on k nearest neighbors.\"\"\"\n",
        "    neighbors = get_neighbors(training_data, test_point, k)\n",
        "    votes = {}  # To count the votes for each class\n",
        "    for neighbor in neighbors:\n",
        "        label = neighbor[-1]  # The class label is the last element in the tuple\n",
        "        if label in votes:\n",
        "            votes[label] += 1\n",
        "        else:\n",
        "            votes[label] = 1\n",
        "    sorted_votes = sorted(votes.items(), key=lambda kv: kv[1], reverse=True)\n",
        "    return sorted_votes[0][0]  # Return the label with the most votes\n",
        "\n",
        "# Example usage\n",
        "if __name__ == \"__main__\":\n",
        "    # Example training dataset [(feature1, feature2, ..., label), ...]\n",
        "    training_data = [(1, 2, 'A'), (2, 3, 'A'), (3, 4, 'B'), (4, 5, 'B')]\n",
        "    # Test point to classify\n",
        "    test_point = (3, 3)\n",
        "    k = 3  # Number of neighbors to consider\n",
        "    predicted_label = predict_classification(training_data, test_point + (None,), k)\n",
        "    print(f\"Predicted Class for the test point {test_point}: {predicted_label}\")"
      ],
      "metadata": {
        "id": "drC6iQlzPBPk",
        "outputId": "1b9dfbf1-ae2f-4152-c1a2-8183dd9ac99f",
        "colab": {
          "base_uri": "https://localhost:8080/"
        }
      },
      "execution_count": 3,
      "outputs": [
        {
          "output_type": "stream",
          "name": "stdout",
          "text": [
            "Predicted Class for the test point (3, 3): A\n"
          ]
        }
      ]
    }
  ]
}