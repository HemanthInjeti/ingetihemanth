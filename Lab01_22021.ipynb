{
  "nbformat": 4,
  "nbformat_minor": 0,
  "metadata": {
    "colab": {
      "provenance": [],
      "include_colab_link": true
    },
    "kernelspec": {
      "name": "python3",
      "display_name": "Python 3"
    },
    "language_info": {
      "name": "python"
    }
  },
  "cells": [
    {
      "cell_type": "markdown",
      "metadata": {
        "id": "view-in-github",
        "colab_type": "text"
      },
      "source": [
        "<a href=\"https://colab.research.google.com/github/HemanthInjeti/ingetihemanth/blob/main/Lab01_22021.ipynb\" target=\"_parent\"><img src=\"https://colab.research.google.com/assets/colab-badge.svg\" alt=\"Open In Colab\"/></a>"
      ]
    },
    {
      "cell_type": "code",
      "execution_count": null,
      "metadata": {
        "colab": {
          "base_uri": "https://localhost:8080/"
        },
        "id": "O73FrPpYCU79",
        "outputId": "fc361977-896b-4cf4-8c31-562e66f79f7f"
      },
      "outputs": [
        {
          "output_type": "stream",
          "name": "stdout",
          "text": [
            "Number of pairs with sum 10: 2\n"
          ]
        }
      ],
      "source": [
        " def count_pairs_with_sum(arr, target_sum):\n",
        "\n",
        "    arr.sort()\n",
        "\n",
        "    # Initialize variables\n",
        "    count = 0\n",
        "    left, right = 0, len(arr) - 1\n",
        "\n",
        "    # Finding pairs\n",
        "    while left < right:\n",
        "        current_sum = arr[left] + arr[right]\n",
        "\n",
        "        if current_sum == target_sum:\n",
        "            count += 1\n",
        "            left += 1\n",
        "            right -= 1\n",
        "        elif current_sum < target_sum:\n",
        "            left += 1\n",
        "        else:\n",
        "            right -= 1\n",
        "\n",
        "    return count\n",
        "\n",
        "if __name__ == \"__main__\":\n",
        "    # Example usage\n",
        "    input_list = [2, 7, 4, 1, 3, 6]\n",
        "    target_sum = 10\n",
        "\n",
        "    # Counting pairs\n",
        "    result = count_pairs_with_sum(input_list, target_sum)\n",
        "\n",
        "    # Printing the result\n",
        "    print(f\"Number of pairs with sum {target_sum}: {result}\")\n"
      ]
    },
    {
      "cell_type": "code",
      "source": [
        "def calculate_range(numbers):\n",
        "\n",
        "    if len(numbers) < 3:\n",
        "        raise ValueError(\"Range determination not possible\")\n",
        "\n",
        "    min_number = min(numbers)\n",
        "    max_number = max(numbers)\n",
        "\n",
        "    return max_number - min_number\n",
        "\n",
        "# Example usage\n",
        "if __name__ == \"__main__\":\n",
        "    # Example list\n",
        "    input_list = [5, 3, 8, 1, 0, 4]\n",
        "\n",
        "    try:\n",
        "        result_range = calculate_range(input_list)\n",
        "        print(f\"The range of the list is: {result_range}\")\n",
        "    except ValueError as e:\n",
        "        print(f\"Error: {e}\")\n"
      ],
      "metadata": {
        "colab": {
          "base_uri": "https://localhost:8080/"
        },
        "id": "EDeu9OtuCeE9",
        "outputId": "b3655b8a-23f6-4578-9357-3c464c0e3155"
      },
      "execution_count": null,
      "outputs": [
        {
          "output_type": "stream",
          "name": "stdout",
          "text": [
            "The range of the list is: 8\n"
          ]
        }
      ]
    },
    {
      "cell_type": "code",
      "source": [
        "def count_max_occurrence(input_string):\n",
        "\n",
        "    # Initialize an empty dictionary to store character counts\n",
        "    char_count = {}\n",
        "\n",
        "    # Iterate through each character in the input string\n",
        "    for char in input_string:\n",
        "        # Consider only alphabets\n",
        "        if char.isalpha():\n",
        "            # Update the count for the current character in the dictionary\n",
        "            char_count[char] = char_count.get(char, 0) + 1\n",
        "\n",
        "    # Find the character with the maximum occurrence count\n",
        "    max_char = max(char_count, key=char_count.get)\n",
        "\n",
        "    # Return a tuple containing the highest occurring character and its occurrence count\n",
        "    return max_char, char_count[max_char]\n",
        "\n",
        "if __name__ == \"__main__\":\n",
        "    # Get input string from the user\n",
        "    input_string = input(\"Enter a string: \")\n",
        "\n",
        "    # Call the function to get the result\n",
        "    result = count_max_occurrence(input_string)\n",
        "\n",
        "    # Unpack the result tuple\n",
        "    max_char, occurrence_count = result\n",
        "\n",
        "    # Print the result\n",
        "    print(f\"The maximally occurring character is '{max_char}' and its occurrence count is {occurrence_count}.\")\n"
      ],
      "metadata": {
        "id": "I3o5uVjkNka0",
        "outputId": "f99e3941-d73e-4019-998a-2d8c679e5f50",
        "colab": {
          "base_uri": "https://localhost:8080/"
        }
      },
      "execution_count": 1,
      "outputs": [
        {
          "output_type": "stream",
          "name": "stdout",
          "text": [
            "Enter a string: hemanth\n",
            "The maximally occurring character is 'h' and its occurrence count is 2.\n"
          ]
        }
      ]
    },
    {
      "cell_type": "code",
      "source": [
        " def matrix_power(A, m):\n",
        "\n",
        "    n = len(A)  # Assuming A is a square matrix, so n is the size of the matrix\n",
        "\n",
        "    # Helper function for matrix multiplication\n",
        "    def matrix_multiply(X, Y):\n",
        "        result = [[0] * n for _ in range(n)]\n",
        "        for i in range(n):\n",
        "            for j in range(n):\n",
        "                for k in range(n):\n",
        "                    result[i][j] += X[i][k] * Y[k][j]\n",
        "        return result\n",
        "\n",
        "    # Initialize result matrix to the identity matrix\n",
        "    result = [[1 if i == j else 0 for j in range(n)] for i in range(n)]\n",
        "\n",
        "    # Perform matrix exponentiation using repeated squaring\n",
        "    while m > 0:\n",
        "        if m % 2 == 1:\n",
        "            result = matrix_multiply(result, A)\n",
        "        A = matrix_multiply(A, A)\n",
        "        m //= 2\n",
        "\n",
        "    return result\n",
        "\n",
        "# Example usage in the main program\n",
        "if __name__ == \"__main__\":\n",
        "    # Example square matrix A\n",
        "    matrix_A = [\n",
        "        [1, 2],\n",
        "        [3, 4]\n",
        "    ]\n",
        "\n",
        "    # Example positive integer m\n",
        "    exponent_m = 3\n",
        "\n",
        "    # Calculate Am using the matrix_power function\n",
        "    result_matrix = matrix_power(matrix_A, exponent_m)\n",
        "\n",
        "    # Display the result\n",
        "    print(\"Matrix A:\")\n",
        "    for row in matrix_A:\n",
        "        print(row)\n",
        "\n",
        "    print(\"\\nMatrix A^{}:\".format(exponent_m))\n",
        "    for row in result_matrix:\n",
        "        print(row)\n"
      ],
      "metadata": {
        "colab": {
          "base_uri": "https://localhost:8080/"
        },
        "id": "WzsiEW7oNk63",
        "outputId": "54d29b16-8d2d-4b28-8dd1-dfae07735b3e"
      },
      "execution_count": 2,
      "outputs": [
        {
          "output_type": "stream",
          "name": "stdout",
          "text": [
            "Matrix A:\n",
            "[1, 2]\n",
            "[3, 4]\n",
            "\n",
            "Matrix A^3:\n",
            "[37, 54]\n",
            "[81, 118]\n"
          ]
        }
      ]
    }
  ]
}