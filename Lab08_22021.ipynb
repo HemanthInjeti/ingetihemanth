{
  "nbformat": 4,
  "nbformat_minor": 0,
  "metadata": {
    "colab": {
      "provenance": []
    },
    "kernelspec": {
      "name": "python3",
      "display_name": "Python 3"
    },
    "language_info": {
      "name": "python"
    }
  },
  "cells": [
    {
      "cell_type": "code",
      "execution_count": null,
      "metadata": {
        "id": "_nBeMhi8q5Yr"
      },
      "outputs": [],
      "source": [
        "print('hi my name is hemanth')"
      ]
    }
  ]
}